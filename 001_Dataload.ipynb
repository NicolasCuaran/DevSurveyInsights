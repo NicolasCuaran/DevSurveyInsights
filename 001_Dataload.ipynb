{
 "cells": [
  {
   "cell_type": "markdown",
   "metadata": {},
   "source": [
    "Librerias"
   ]
  },
  {
   "cell_type": "code",
   "execution_count": null,
   "metadata": {},
   "outputs": [],
   "source": [
    "import os\n",
    "import pandas as pd\n",
    "from sqlalchemy import create_engine, String, inspect, MetaData, Table, Column\n",
    "from sqlalchemy_utils import database_exists, create_database"
   ]
  },
  {
   "cell_type": "markdown",
   "metadata": {},
   "source": [
    "Funcion para leer las credenciales (Se necesita el archivo Credenciales.txt en la ubicacion de la carpeta)"
   ]
  },
  {
   "cell_type": "code",
   "execution_count": 26,
   "metadata": {},
   "outputs": [],
   "source": [
    "credentials = {}\n",
    "with open(\"credenciales.txt\", \"r\") as file:\n",
    "    for line in file:\n",
    "        key, value = line.strip().split(\"=\")\n",
    "        credentials[key] = value\n",
    "\n",
    "user = credentials[\"PG_USER\"]\n",
    "password = credentials[\"PG_PASSWORD\"]\n",
    "host = credentials[\"PG_HOST\"]\n",
    "port = credentials[\"PG_PORT\"]\n",
    "database = credentials[\"PG_DATABASE\"]"
   ]
  },
  {
   "cell_type": "markdown",
   "metadata": {},
   "source": [
    "Se crea la URL y el motor de conexion (sqlalchemy)"
   ]
  },
  {
   "cell_type": "code",
   "execution_count": 28,
   "metadata": {},
   "outputs": [],
   "source": [
    "url = f\"postgresql://{user}:{password}@{host}:{port}/{database}\"\n",
    "engine = create_engine(url)"
   ]
  },
  {
   "cell_type": "markdown",
   "metadata": {},
   "source": [
    "Revisar si exite ya la base de datos o no"
   ]
  },
  {
   "cell_type": "code",
   "execution_count": 29,
   "metadata": {},
   "outputs": [
    {
     "name": "stdout",
     "output_type": "stream",
     "text": [
      "Conectando a la base de datos existente 'postgres'.\n"
     ]
    }
   ],
   "source": [
    "if not database_exists(engine.url):\n",
    "    create_database(engine.url)\n",
    "    print(f\"Base de datos '{database}' creada.\")\n",
    "else:\n",
    "    print(f\"Conectando a la base de datos existente '{database}'.\")"
   ]
  },
  {
   "cell_type": "markdown",
   "metadata": {},
   "source": [
    "Leer la base de datos en el achivo CSV (Revisar la ruta)"
   ]
  },
  {
   "cell_type": "code",
   "execution_count": null,
   "metadata": {},
   "outputs": [
    {
     "name": "stdout",
     "output_type": "stream",
     "text": [
      "Leyendo el archivo CSV...\n"
     ]
    },
    {
     "name": "stderr",
     "output_type": "stream",
     "text": [
      "C:\\Users\\Nicolas Cuaran\\AppData\\Local\\Temp\\ipykernel_18544\\1604996450.py:3: DtypeWarning: Columns (8,12,13,14,15,16,50,51,52,53,55,56,57,58,59,60,61,62,63,64,65,66,67,68,69,70,71,72,73,74,75,76,77,78,79,80,81,82,83,84,85,93,94,95,96,97,98,99,100,101,102,103,104,105,106,107,108,109,110,111,112,113,114,115,116,117,118,119,120,121,122,123,124,125,126,127,128) have mixed types. Specify dtype option on import or set low_memory=False.\n",
      "  df = pd.read_csv(csv_file)\n"
     ]
    },
    {
     "name": "stdout",
     "output_type": "stream",
     "text": [
      "Archivo CSV leído: 98855 filas, 129 columnas.\n"
     ]
    }
   ],
   "source": [
    "csv_file = \"./data/survey_results_public.csv\"\n",
    "print(\"Leyendo el archivo CSV...\")\n",
    "df = pd.read_csv(csv_file)\n",
    "print(f\"Archivo CSV leido: {df.shape[0]} filas, {df.shape[1]} columnas.\")"
   ]
  },
  {
   "cell_type": "markdown",
   "metadata": {},
   "source": [
    "Logica para inferir tipos de datos para SQL (sqlalchemy)"
   ]
  },
  {
   "cell_type": "code",
   "execution_count": 33,
   "metadata": {},
   "outputs": [],
   "source": [
    "def infer_sqlalchemy_type(dtype, column_name):\n",
    "    # Determinar la longitud máxima necesaria para cada columna\n",
    "    max_length = df[column_name].str.len().max() if pd.api.types.is_string_dtype(dtype) else 500\n",
    "    if max_length > 2000:  # Límite práctico para evitar problemas extremos\n",
    "        max_length = 2000\n",
    "    return String(max_length)"
   ]
  },
  {
   "cell_type": "markdown",
   "metadata": {},
   "source": [
    " Verifica la tabla si no exite y sube los datos"
   ]
  },
  {
   "cell_type": "code",
   "execution_count": 36,
   "metadata": {},
   "outputs": [
    {
     "name": "stdout",
     "output_type": "stream",
     "text": [
      "Tabla 'surevey_results' creada.\n",
      "Datos insertados en la tabla 'surevey_results'.\n"
     ]
    }
   ],
   "source": [
    "table_name = \"surevey_results\"\n",
    "if not inspect(engine).has_table(table_name):\n",
    "    metadata = MetaData()\n",
    "    columns = [Column(name,\n",
    "                      infer_sqlalchemy_type(dtype, name),\n",
    "                      primary_key=(name == 'eventid')) \\\n",
    "                          for name, dtype in df.dtypes.items()]\n",
    "    \n",
    "    table = Table(table_name, metadata, *columns)\n",
    "    table.create(engine)\n",
    "    print(f\"Tabla '{table_name}' creada.\")\n",
    "    \n",
    "    # Insertar datos del DataFrame\n",
    "    df.to_sql(table_name, con=engine, if_exists='append', index=False)\n",
    "    print(f\"Datos insertados en la tabla '{table_name}'.\")\n",
    "else:\n",
    "    print(f\"La tabla '{table_name}' ya existe.\")"
   ]
  }
 ],
 "metadata": {
  "kernelspec": {
   "display_name": "tf",
   "language": "python",
   "name": "python3"
  },
  "language_info": {
   "codemirror_mode": {
    "name": "ipython",
    "version": 3
   },
   "file_extension": ".py",
   "mimetype": "text/x-python",
   "name": "python",
   "nbconvert_exporter": "python",
   "pygments_lexer": "ipython3",
   "version": "3.10.12"
  }
 },
 "nbformat": 4,
 "nbformat_minor": 2
}
