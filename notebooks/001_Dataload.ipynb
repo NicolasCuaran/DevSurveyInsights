{
 "cells": [
  {
   "cell_type": "markdown",
   "metadata": {},
   "source": [
    "Librerias"
   ]
  },
  {
   "cell_type": "code",
   "execution_count": null,
   "metadata": {},
   "outputs": [],
   "source": [
    "import os\n",
    "import pandas as pd\n",
    "from sqlalchemy import create_engine, text\n",
    "from sqlalchemy_utils import database_exists, create_database\n",
    "from dotenv import load_dotenv"
   ]
  },
  {
   "cell_type": "markdown",
   "metadata": {},
   "source": [
    "Funcion para leer las credenciales (Se necesita el archivo Credenciales.txt en la ubicacion de la carpeta)"
   ]
  },
  {
   "cell_type": "code",
   "execution_count": 7,
   "metadata": {},
   "outputs": [],
   "source": [
    "load_dotenv(\"../.env\")\n",
    "\n",
    "user = os.getenv(\"PG_USER\")\n",
    "password = os.getenv(\"PG_PASSWORD\")\n",
    "host = os.getenv(\"PG_HOST\")\n",
    "port = os.getenv(\"PG_PORT\")\n",
    "database = os.getenv(\"PG_DATABASE\")"
   ]
  },
  {
   "cell_type": "markdown",
   "metadata": {},
   "source": [
    "Se crea la URL y el motor de conexion (sqlalchemy)"
   ]
  },
  {
   "cell_type": "code",
   "execution_count": 8,
   "metadata": {},
   "outputs": [],
   "source": [
    "url = f\"postgresql://{user}:{password}@{host}:{port}/{database}\"\n",
    "engine = create_engine(url)"
   ]
  },
  {
   "cell_type": "markdown",
   "metadata": {},
   "source": [
    "Revisar si exite ya la base de datos o no"
   ]
  },
  {
   "cell_type": "code",
   "execution_count": 9,
   "metadata": {},
   "outputs": [
    {
     "name": "stdout",
     "output_type": "stream",
     "text": [
      "Conectando a la base de datos existente 'AAAAAAAA'.\n"
     ]
    }
   ],
   "source": [
    "if not database_exists(engine.url):\n",
    "    create_database(engine.url)\n",
    "    print(f\"Base de datos '{database}' creada.\")\n",
    "else:\n",
    "    print(f\"Conectando a la base de datos existente '{database}'.\")"
   ]
  },
  {
   "cell_type": "markdown",
   "metadata": {},
   "source": [
    "Leer la base de datos en el achivo CSV (Revisar la ruta)"
   ]
  },
  {
   "cell_type": "code",
   "execution_count": 10,
   "metadata": {},
   "outputs": [
    {
     "name": "stdout",
     "output_type": "stream",
     "text": [
      "Leyendo el archivo CSV...\n"
     ]
    },
    {
     "name": "stderr",
     "output_type": "stream",
     "text": [
      "C:\\Users\\Nicolas Cuaran\\AppData\\Local\\Temp\\ipykernel_22252\\1599995941.py:3: DtypeWarning: Columns (8,12,13,14,15,16,50,51,52,53,55,56,57,58,59,60,61,62,63,64,65,66,67,68,69,70,71,72,73,74,75,76,77,78,79,80,81,82,83,84,85,93,94,95,96,97,98,99,100,101,102,103,104,105,106,107,108,109,110,111,112,113,114,115,116,117,118,119,120,121,122,123,124,125,126,127,128) have mixed types. Specify dtype option on import or set low_memory=False.\n",
      "  df = pd.read_csv(csv_file)\n"
     ]
    },
    {
     "name": "stdout",
     "output_type": "stream",
     "text": [
      "Archivo CSV leido: 98855 filas, 129 columnas.\n"
     ]
    }
   ],
   "source": [
    "csv_file = \"../data/survey_results_public.csv\"\n",
    "print(\"Leyendo el archivo CSV...\")\n",
    "df = pd.read_csv(csv_file)\n",
    "print(f\"Archivo CSV leido: {df.shape[0]} filas, {df.shape[1]} columnas.\")"
   ]
  },
  {
   "cell_type": "markdown",
   "metadata": {},
   "source": [
    "Logica para inferir tipos de datos para SQL (pasamos todo a string)"
   ]
  },
  {
   "cell_type": "code",
   "execution_count": 11,
   "metadata": {},
   "outputs": [
    {
     "data": {
      "text/plain": [
       "185"
      ]
     },
     "execution_count": 11,
     "metadata": {},
     "output_type": "execute_result"
    }
   ],
   "source": [
    "df.to_sql('surevey_results', engine, if_exists='append', index=False)"
   ]
  },
  {
   "cell_type": "markdown",
   "metadata": {},
   "source": [
    " Verifica la tabla si no exite y sube los datos"
   ]
  },
  {
   "cell_type": "code",
   "execution_count": 13,
   "metadata": {},
   "outputs": [
    {
     "name": "stdout",
     "output_type": "stream",
     "text": [
      "(1, 'Yes', 'No', 'Kenya', 'No', 'Employed part-time', 'Bachelor’s degree (BA, BS, B.Eng., etc.)', 'Mathematics or statistics', '20 to 99 employees', 'Full-stack developer', '3-5 years', '3-5 years', 'Extremely satisfied', 'Extremely satisfied', 'Working as a founder or co-founder of my own company', 'I’m not actively looking, but I am open to new opportunities', 'Less than a year ago', 10.0, 7.0, 8.0, 1.0, 2.0, 5.0, 3.0, 4.0, 9.0, 6.0, None, None, None, None, None, None, None, None, None, None, None, 3.0, 1.0, 4.0, 2.0, 5.0, 5.0, 6.0, 7.0, 2.0, 1.0, 4.0, 3.0, 'My job status or other personal status changed', None, None, 'Monthly', None, 'KES', 'Slack', 'One to three months', 'Taught yourself a new language, framework, or tool without taking a formal course;Participated in a hackathon', 'The official documentation and/or standards for the technology;A book or e-book from O’Reilly, Apress, or a similar publisher;Questions & answers on Stack Overflow;Online developer communities other than Stack Overflow (ex. forums, listservs, IRC channels, etc.)', None, 'To build my professional network', 'Strongly agree', 'Strongly agree', 'Neither Agree nor Disagree', 'JavaScript;Python;HTML;CSS', 'JavaScript;Python;HTML;CSS', 'Redis;SQL Server;MySQL;PostgreSQL;Amazon RDS/Aurora;Microsoft Azure (Tables, CosmosDB, SQL, etc)', 'Redis;SQL Server;MySQL;PostgreSQL;Amazon RDS/Aurora;Microsoft Azure (Tables, CosmosDB, SQL, etc)', 'AWS;Azure;Linux;Firebase', 'AWS;Azure;Linux;Firebase', 'Django;React', 'Django;React', 'Komodo;Vim;Visual Studio Code', 'Linux-based', '1', 'Agile;Scrum', 'Git', 'Multiple times per day', 'Yes', 'No', None, 'Strongly agree', 'Strongly agree', 'Strongly agree', 'Saw an online advertisement and then researched it (without clicking on the ad);Stopped going to a website because of their advertising', 1.0, 5.0, 4.0, 7.0, 2.0, 6.0, 3.0, 'Artificial intelligence surpassing human intelligence (\"the singularity\")', 'Algorithms making important decisions', 'The developers or the people creating the AI', \"I'm excited about the possibilities more than worried about the dangers.\", 'No', 'Yes, and publicly', 'Upper management at the company/organization', 'Yes', '10 (Very Likely)', 'Multiple times per day', 'Yes', 'I have never participated in Q&A on Stack Overflow', 'No, I knew that Stack Overflow had a jobs board but have never used or visited it', 'Yes', None, 'Yes', 'Extremely interested', 'Extremely interested', 'Extremely interested', 'Extremely interested', 'Extremely interested', 'Between 5:00 - 6:00 AM', '9 - 12 hours', '1 - 2 hours', 'Never', 'Standing desk', '3 - 4 times per week', 'Male', 'Straight or heterosexual', 'Bachelor’s degree (BA, BS, B.Eng., etc.)', 'Black or of African descent', '25 - 34 years old', 'Yes', None, 'The survey was an appropriate length', 'Very easy')\n",
      "(3, 'Yes', 'Yes', 'United Kingdom', 'No', 'Employed full-time', 'Bachelor’s degree (BA, BS, B.Eng., etc.)', 'A natural science (ex. biology, chemistry, physics)', '10,000 or more employees', 'Database administrator;DevOps specialist;Full-stack developer;System administrator', '30 or more years', '18-20 years', 'Moderately dissatisfied', 'Neither satisfied nor dissatisfied', \"Working in a different or more specialized technical role than the one I'm in now\", 'I am actively looking for a job', 'More than 4 years ago', 1.0, 7.0, 10.0, 8.0, 2.0, 5.0, 4.0, 3.0, 6.0, 9.0, 1.0, 5.0, 3.0, 7.0, 10.0, 4.0, 11.0, 9.0, 6.0, 2.0, 8.0, 3.0, 1.0, 5.0, 2.0, 4.0, 1.0, 3.0, 4.0, 5.0, 2.0, 6.0, 7.0, 'I saw an employer’s advertisement', 'British pounds sterling (£)', '51000', 'Yearly', 70841.0, 'GBP', 'Confluence;Office / productivity suite (Microsoft Office, Google Suite, etc.);Slack;Other wiki tool (Github, Google Sites, proprietary software, etc.)', 'One to three months', 'Taught yourself a new language, framework, or tool without taking a formal course;Contributed to open source software', 'The official documentation and/or standards for the technology;Questions & answers on Stack Overflow', None, None, 'Agree', 'Agree', 'Neither Agree nor Disagree', 'JavaScript;Python;Bash/Shell', 'Go;Python', 'Redis;PostgreSQL;Memcached', 'PostgreSQL', 'Linux', 'Linux', 'Django', 'React', 'IPython / Jupyter;Sublime Text;Vim', 'Linux-based', '2', None, 'Git;Subversion', 'A few times per week', 'Yes', 'Yes', 'The website I was visiting asked me to disable it', 'Somewhat agree', 'Neither agree nor disagree', 'Neither agree nor disagree', None, 3.0, 5.0, 1.0, 4.0, 6.0, 7.0, 2.0, 'Increasing automation of jobs', 'Increasing automation of jobs', 'The developers or the people creating the AI', \"I'm excited about the possibilities more than worried about the dangers.\", 'Depends on what it is', 'Depends on what it is', 'Upper management at the company/organization', 'Yes', '10 (Very Likely)', 'A few times per month or weekly', 'Yes', 'A few times per month or weekly', 'Yes', \"No, I have one but it's out of date\", '7', 'Yes', 'A little bit interested', 'A little bit interested', 'A little bit interested', 'A little bit interested', 'A little bit interested', 'Between 6:01 - 7:00 AM', '5 - 8 hours', '30 - 59 minutes', 'Never', 'Ergonomic keyboard or mouse', 'Daily or almost every day', 'Male', 'Straight or heterosexual', 'Bachelor’s degree (BA, BS, B.Eng., etc.)', 'White or of European descent', '35 - 44 years old', 'Yes', None, 'The survey was an appropriate length', 'Somewhat easy')\n",
      "(4, 'Yes', 'Yes', 'United States', 'No', 'Employed full-time', 'Associate degree', 'Computer science, computer engineering, or software engineering', '20 to 99 employees', 'Engineering manager;Full-stack developer', '24-26 years', '6-8 years', 'Moderately satisfied', 'Moderately satisfied', 'Working as a founder or co-founder of my own company', 'I’m not actively looking, but I am open to new opportunities', 'Less than a year ago', None, None, None, None, None, None, None, None, None, None, None, None, None, None, None, None, None, None, None, None, None, None, None, None, None, None, None, None, None, None, None, None, None, None, None, None, None, None, None, None, None, None, None, None, None, None, None, None, None, None, None, None, None, None, None, None, None, None, None, None, None, None, None, None, None, None, None, None, None, None, None, None, None, None, None, None, None, None, None, None, None, None, None, None, None, None, None, None, None, None, None, None, None, None, None, None, None, None, None, None, None, None, None, None, None, None, None, None, None, None, None, None)\n",
      "(5, 'No', 'No', 'United States', 'No', 'Employed full-time', 'Bachelor’s degree (BA, BS, B.Eng., etc.)', 'Computer science, computer engineering, or software engineering', '100 to 499 employees', 'Full-stack developer', '18-20 years', '12-14 years', 'Neither satisfied nor dissatisfied', 'Slightly dissatisfied', 'Working as a founder or co-founder of my own company', 'I’m not actively looking, but I am open to new opportunities', 'Less than a year ago', None, None, None, None, None, None, None, None, None, None, None, None, None, None, None, None, None, None, None, None, None, None, None, None, None, None, None, None, None, None, None, None, None, 'A recruiter contacted me', 'U.S. dollars ($)', None, None, None, None, None, 'Three to six months', 'Completed an industry certification program (e.g. MCPD);Taught yourself a new language, framework, or tool without taking a formal course', 'The official documentation and/or standards for the technology;A book or e-book from O’Reilly, Apress, or a similar publisher;Questions & answers on Stack Overflow;The technology’s online help system', None, None, 'Disagree', 'Disagree', 'Strongly disagree', 'C#;JavaScript;SQL;TypeScript;HTML;CSS;Bash/Shell', 'C#;JavaScript;SQL;TypeScript;HTML;CSS;Bash/Shell', 'SQL Server;Microsoft Azure (Tables, CosmosDB, SQL, etc)', 'SQL Server;Microsoft Azure (Tables, CosmosDB, SQL, etc)', 'Azure', 'Azure', None, 'Angular;.NET Core;React', 'Visual Studio;Visual Studio Code', 'Windows', '2', 'Agile;Kanban;Scrum', 'Git', 'Multiple times per day', 'Yes', 'Yes', 'The ad-blocking software was causing display issues on a website', 'Neither agree nor disagree', 'Somewhat agree', 'Somewhat agree', 'Stopped going to a website because of their advertising', None, None, None, None, None, None, None, 'Artificial intelligence surpassing human intelligence (\"the singularity\")', 'Artificial intelligence surpassing human intelligence (\"the singularity\")', 'A governmental or other regulatory body', \"I don't care about it, or I haven't thought about it.\", 'No', 'Yes, but only within the company', 'Upper management at the company/organization', 'Yes', '10 (Very Likely)', 'A few times per week', 'Yes', 'A few times per month or weekly', 'Yes', \"No, I have one but it's out of date\", '8', 'Yes', 'Somewhat interested', 'Somewhat interested', 'Somewhat interested', 'Somewhat interested', 'Somewhat interested', 'Between 6:01 - 7:00 AM', '9 - 12 hours', 'Less than 30 minutes', '3 - 4 times per week', None, \"I don't typically exercise\", 'Male', 'Straight or heterosexual', 'Some college/university study without earning a degree', 'White or of European descent', '35 - 44 years old', 'No', 'No', 'The survey was an appropriate length', 'Somewhat easy')\n",
      "(26, 'No', 'No', 'United States', 'Yes, full-time', 'Employed part-time', 'Bachelor’s degree (BA, BS, B.Eng., etc.)', 'Computer science, computer engineering, or software engineering', '1,000 to 4,999 employees', 'Student', '0-2 years', None, None, None, None, 'I am actively looking for a job', 'Less than a year ago', 5.0, 7.0, 4.0, 8.0, 2.0, 6.0, 9.0, 1.0, 10.0, 3.0, 1.0, 2.0, 4.0, 10.0, 11.0, 5.0, 6.0, 7.0, 9.0, 8.0, 3.0, None, None, None, None, None, None, None, None, None, None, None, None, None, None, None, None, None, None, None, None, None, None, None, None, None, None, None, None, None, None, None, None, None, None, None, None, None, None, None, None, None, None, None, None, None, None, None, None, None, None, None, None, None, None, None, None, None, None, None, None, None, None, None, '10 (Very Likely)', 'Daily or almost daily', 'Yes', 'I have never participated in Q&A on Stack Overflow', 'No, I knew that Stack Overflow had a jobs board but have never used or visited it', \"No, I know what it is but I don't have one\", None, 'Yes', 'Very interested', 'Very interested', 'Very interested', 'Very interested', 'Very interested', 'Between 9:01 - 10:00 AM', '5 - 8 hours', '30 - 59 minutes', 'Never', 'Standing desk', '3 - 4 times per week', None, None, None, None, None, None, None, None, None)\n",
      "(562, 'Yes', 'No', 'India', 'No', 'Employed full-time', 'Bachelor’s degree (BA, BS, B.Eng., etc.)', 'Computer science, computer engineering, or software engineering', '100 to 499 employees', 'Back-end developer;Front-end developer;Mobile developer', '0-2 years', None, None, None, None, None, None, None, None, None, None, None, None, None, None, None, None, None, None, None, None, None, None, None, None, None, None, None, None, None, None, None, None, None, None, None, None, None, None, None, None, None, None, None, None, None, None, None, None, None, None, None, None, None, None, 'C++;JavaScript;HTML;CSS', 'JavaScript;TypeScript;HTML;CSS', 'MySQL', 'Cassandra;MongoDB', None, None, None, None, None, None, None, None, None, None, None, None, None, None, None, None, None, None, None, None, None, None, None, None, None, None, None, None, None, None, None, None, '10 (Very Likely)', 'A few times per week', 'Yes', 'I have never participated in Q&A on Stack Overflow', 'No, I knew that Stack Overflow had a jobs board but have never used or visited it', \"No, and I don't know what that is\", None, 'Yes', 'Somewhat interested', 'Somewhat interested', 'Very interested', 'Very interested', 'Somewhat interested', 'Between 9:01 - 10:00 AM', '9 - 12 hours', '1 - 2 hours', '1 - 2 times per week', 'Fatigue-relieving floor mat;Ergonomic keyboard or mouse', \"I don't typically exercise\", None, None, None, None, None, None, None, None, None)\n",
      "(7, 'Yes', 'No', 'South Africa', 'Yes, part-time', 'Employed full-time', 'Some college/university study without earning a degree', 'Computer science, computer engineering, or software engineering', '10,000 or more employees', 'Data or business analyst;Desktop or enterprise applications developer;Game or graphics developer;QA or test developer;Student', '6-8 years', '0-2 years', 'Slightly satisfied', 'Moderately satisfied', \"Working in a different or more specialized technical role than the one I'm in now\", 'I’m not actively looking, but I am open to new opportunities', 'Between 1 and 2 years ago', 8.0, 5.0, 7.0, 1.0, 2.0, 6.0, 4.0, 3.0, 10.0, 9.0, 1.0, 10.0, 2.0, 4.0, 8.0, 3.0, 11.0, 7.0, 5.0, 9.0, 6.0, 2.0, 1.0, 4.0, 5.0, 3.0, 7.0, 3.0, 6.0, 2.0, 1.0, 4.0, 5.0, 'My job status or other personal status changed', 'South African rands (R)', '260000', 'Yearly', 21426.0, 'ZAR', 'Office / productivity suite (Microsoft Office, Google Suite, etc.)', 'Three to six months', 'Taken a part-time in-person course in programming or software development;Received on-the-job training in software development;Taught yourself a new language, framework, or tool without taking a formal course', 'The official documentation and/or standards for the technology;A book or e-book from O’Reilly, Apress, or a similar publisher;Questions & answers on Stack Overflow', None, None, 'Strongly agree', 'Agree', 'Strongly disagree', 'C;C++;Java;Matlab;R;SQL;Bash/Shell', 'Assembly;C;C++;Matlab;SQL;Bash/Shell', 'SQL Server;PostgreSQL;Oracle;IBM Db2', 'PostgreSQL;Oracle;IBM Db2', 'Arduino;Windows Desktop or Server', 'Arduino;Windows Desktop or Server', None, None, 'Notepad++;Visual Studio;Visual Studio Code', 'Windows', '2', 'Evidence-based software engineering;Formal standard such as ISO 9001 or IEEE 12207 (aka “waterfall” methodologies)', 'Zip file back-ups', 'Weekly or a few times per month', 'No', None, None, 'Somewhat agree', 'Somewhat agree', 'Somewhat disagree', 'Clicked on an online advertisement;Saw an online advertisement and then researched it (without clicking on the ad)', 2.0, 3.0, 4.0, 6.0, 1.0, 7.0, 5.0, 'Algorithms making important decisions', 'Algorithms making important decisions', 'The developers or the people creating the AI', \"I'm excited about the possibilities more than worried about the dangers.\", 'No', 'Yes, but only within the company', 'Upper management at the company/organization', 'Yes', '10 (Very Likely)', 'Daily or almost daily', 'Yes', 'Less than once per month or monthly', 'No, I knew that Stack Overflow had a jobs board but have never used or visited it', \"No, I know what it is but I don't have one\", None, 'Yes', 'Extremely interested', 'Extremely interested', 'Extremely interested', 'Extremely interested', 'Extremely interested', 'Before 5:00 AM', 'Over 12 hours', '1 - 2 hours', 'Never', None, '3 - 4 times per week', 'Male', 'Straight or heterosexual', 'Some college/university study without earning a degree', 'White or of European descent', '18 - 24 years old', 'Yes', None, 'The survey was an appropriate length', 'Somewhat easy')\n",
      "(8, 'Yes', 'No', 'United Kingdom', 'No', 'Employed full-time', 'Bachelor’s degree (BA, BS, B.Eng., etc.)', 'Computer science, computer engineering, or software engineering', '10 to 19 employees', 'Back-end developer;Database administrator;Front-end developer;Full-stack developer', '6-8 years', '3-5 years', 'Moderately satisfied', 'Slightly satisfied', \"Working in a different or more specialized technical role than the one I'm in now\", 'I am actively looking for a job', 'Between 2 and 4 years ago', 8.0, 5.0, 4.0, 9.0, 1.0, 3.0, 6.0, 2.0, 10.0, 7.0, 1.0, 3.0, 4.0, 10.0, 9.0, 2.0, 6.0, 5.0, 11.0, 7.0, 8.0, 4.0, 2.0, 5.0, 1.0, 3.0, 2.0, 6.0, 7.0, 3.0, 1.0, 5.0, 4.0, 'I did not receive an expected change in compensation', 'British pounds sterling (£)', '30000', None, 41671.0, 'GBP', 'Confluence;Jira;Office / productivity suite (Microsoft Office, Google Suite, etc.);Other chat system (IRC, proprietary software, etc.)', 'Less than a month', 'Received on-the-job training in software development;Taught yourself a new language, framework, or tool without taking a formal course;Participated in online coding competitions (e.g. HackerRank, CodeChef, TopCoder)', 'The official documentation and/or standards for the technology;Online developer communities other than Stack Overflow (ex. forums, listservs, IRC channels, etc.)', None, 'To improve my general technical skills or programming ability;To improve my knowledge of a specific programming language, framework, or other technology;Because I find it enjoyable', 'Disagree', 'Neither Agree nor Disagree', 'Strongly disagree', 'Java;JavaScript;Python;TypeScript;HTML;CSS', 'C#;Go;Java;JavaScript;Python;SQL;TypeScript;HTML;CSS', 'MongoDB', 'PostgreSQL', 'Linux', 'Linux', 'Angular;Node.js', 'Node.js', 'IntelliJ;PyCharm;Visual Studio Code', 'Linux-based', '2', 'Agile', 'Git', 'A few times per week', 'Yes', 'Yes', 'I wanted to support the website I was visiting by viewing their ads', 'Somewhat agree', 'Somewhat agree', 'Somewhat disagree', 'Saw an online advertisement and then researched it (without clicking on the ad);Stopped going to a website because of their advertising', 1.0, 3.0, 4.0, 2.0, 7.0, 5.0, 6.0, 'Increasing automation of jobs', 'Algorithms making important decisions', 'A governmental or other regulatory body', \"I'm excited about the possibilities more than worried about the dangers.\", 'Depends on what it is', 'Depends on what it is', 'Upper management at the company/organization', \"Unsure / I don't know\", '7', 'A few times per month or weekly', 'Yes', 'Less than once per month or monthly', 'Yes', \"No, I have one but it's out of date\", '8', 'No', 'A little bit interested', 'Not at all interested', 'Very interested', 'Very interested', 'Extremely interested', 'Between 7:01 - 8:00 AM', '9 - 12 hours', '30 - 59 minutes', '1 - 2 times per week', None, '1 - 2 times per week', 'Male', 'Straight or heterosexual', 'Secondary school (e.g. American high school, German Realschule or Gymnasium, etc.)', 'White or of European descent', '18 - 24 years old', 'No', None, 'The survey was an appropriate length', 'Somewhat easy')\n",
      "(9, 'Yes', 'Yes', 'United States', 'No', 'Employed full-time', 'Some college/university study without earning a degree', 'Computer science, computer engineering, or software engineering', '10,000 or more employees', 'Back-end developer;Front-end developer;Full-stack developer', '9-11 years', '0-2 years', 'Slightly satisfied', 'Moderately satisfied', 'Working as a founder or co-founder of my own company', 'I’m not actively looking, but I am open to new opportunities', 'Less than a year ago', 5.0, 3.0, 9.0, 4.0, 1.0, 8.0, 2.0, 7.0, 10.0, 6.0, 1.0, 3.0, 2.0, 9.0, 11.0, 4.0, 8.0, 6.0, 7.0, 10.0, 5.0, 3.0, 1.0, 5.0, 4.0, 2.0, 1.0, 5.0, 3.0, 4.0, 2.0, 6.0, 7.0, 'My job status or other personal status changed', 'U.S. dollars ($)', '120000', 'Yearly', 120000.0, 'USD', 'Confluence;Office / productivity suite (Microsoft Office, Google Suite, etc.);Stack Overflow Enterprise;Other chat system (IRC, proprietary software, etc.);Other wiki tool (Github, Google Sites, proprietary software, etc.)', 'Six to nine months', 'Received on-the-job training in software development;Taught yourself a new language, framework, or tool without taking a formal course', 'The official documentation and/or standards for the technology;Questions & answers on Stack Overflow;Online developer communities other than Stack Overflow (ex. forums, listservs, IRC channels, etc.)', None, None, 'Disagree', 'Agree', 'Strongly disagree', 'JavaScript;HTML;CSS', 'C;Go;JavaScript;Python;HTML;CSS', 'MongoDB', None, 'Linux', 'Linux', 'Node.js;React', 'React;TensorFlow', 'Atom;Visual Studio Code', 'MacOS', '2', 'Agile;Scrum', 'Git', 'Multiple times per day', 'Yes', 'Yes', 'The ad-blocking software was causing display issues on a website', 'Somewhat disagree', 'Neither agree nor disagree', 'Somewhat disagree', 'Clicked on an online advertisement;Stopped going to a website because of their advertising', 1.0, 4.0, 2.0, 5.0, 3.0, 7.0, 6.0, 'Algorithms making important decisions', 'Artificial intelligence surpassing human intelligence (\"the singularity\")', 'The developers or the people creating the AI', \"I'm excited about the possibilities more than worried about the dangers.\", 'Depends on what it is', 'Yes, but only within the company', 'Upper management at the company/organization', 'Yes', '10 (Very Likely)', 'Multiple times per day', 'Yes', 'I have never participated in Q&A on Stack Overflow', 'Yes', \"No, I have one but it's out of date\", '7', 'No', 'Very interested', 'A little bit interested', 'Extremely interested', 'Very interested', 'Very interested', 'Between 9:01 - 10:00 AM', 'Over 12 hours', 'Less than 30 minutes', '1 - 2 times per week', None, \"I don't typically exercise\", 'Male', 'Straight or heterosexual', 'Master’s degree (MA, MS, M.Eng., MBA, etc.)', 'White or of European descent', '18 - 24 years old', 'No', 'No', 'The survey was an appropriate length', 'Somewhat easy')\n",
      "(10, 'Yes', 'Yes', 'Nigeria', 'No', 'Employed full-time', 'Bachelor’s degree (BA, BS, B.Eng., etc.)', 'Computer science, computer engineering, or software engineering', '10 to 19 employees', 'Designer;Front-end developer;QA or test developer', '0-2 years', '3-5 years', 'Slightly satisfied', 'Moderately satisfied', 'Working as a founder or co-founder of my own company', 'I’m not actively looking, but I am open to new opportunities', 'Less than a year ago', 6.0, 5.0, 4.0, 2.0, 7.0, 8.0, 10.0, 1.0, 9.0, 3.0, 1.0, 3.0, 5.0, 7.0, 6.0, 2.0, 11.0, 9.0, 4.0, 10.0, 8.0, 1.0, 3.0, 2.0, 4.0, 5.0, 2.0, 6.0, 1.0, 3.0, 7.0, 5.0, 4.0, 'I saw an employer’s advertisement', None, None, None, None, None, 'Facebook;Google Hangouts/Chat;Office / productivity suite (Microsoft Office, Google Suite, etc.);Slack;Trello;Other wiki tool (Github, Google Sites, proprietary software, etc.)', 'One to three months', 'Taken an online course in programming or software development (e.g. a MOOC);Participated in a full-time developer training program or bootcamp;Receiv ... (14 characters truncated) ... training in software development;Participated in online coding competitions (e.g. HackerRank, CodeChef, TopCoder);Contributed to open source software', None, 'Immediately after graduating', 'To improve my general technical skills or programming ability;To improve my knowledge of a specific programming language, framework, or other technology;To improve my ability to work on a team with other programmers;Because I find it enjoyable', 'Strongly agree', 'Strongly disagree', 'Neither Agree nor Disagree', 'JavaScript;TypeScript;HTML;CSS', 'Matlab;SQL;Kotlin;Bash/Shell', 'MongoDB;MySQL;Microsoft Azure (Tables, CosmosDB, SQL, etc);Google Cloud Storage', None, 'Azure;Heroku', 'Amazon Echo;Android;Apple Watch or Apple TV;AWS;Google Cloud Platform/App Engine;Google Home;iOS;WordPress;Firebase', 'Angular;Node.js', '.NET Core;Django', 'Atom;Notepad++;Sublime Text;Visual Studio Code', 'Windows', '1', 'Agile;Extreme programming (XP);Scrum', 'Git', 'Multiple times per day', 'Yes', 'No', None, 'Strongly agree', 'Neither agree nor disagree', 'Strongly disagree', 'Saw an online advertisement and then researched it (without clicking on the ad)', None, None, None, None, None, None, None, 'Artificial intelligence surpassing human intelligence (\"the singularity\")', 'Evolving definitions of \"fairness\" in algorithmic versus human decisions', None, \"I'm excited about the possibilities more than worried about the dangers.\", 'Depends on what it is', 'Yes, but only within the company', 'The developer who wrote it', 'Yes', '10 (Very Likely)', 'Daily or almost daily', 'Yes', 'A few times per month or weekly', 'No, I knew that Stack Overflow had a jobs board but have never used or visited it', \"No, and I don't know what that is\", None, 'Yes', 'Very interested', 'Very interested', 'Very interested', 'A little bit interested', 'Extremely interested', 'I do not have a set schedule', 'Over 12 hours', '1 - 2 hours', 'Daily or almost every day', None, '1 - 2 times per week', 'Female', None, 'Primary/elementary school', 'Black or of African descent', '25 - 34 years old', 'No', None, 'The survey was too long', 'Somewhat difficult')\n",
      "(11, 'Yes', 'Yes', 'United States', 'No', 'Employed full-time', 'Some college/university study without earning a degree', 'Fine arts or performing arts (ex. graphic design, music, studio art)', '100 to 499 employees', 'Back-end developer;C-suite executive (CEO, CTO, etc.);Data or business analyst;Database administrator;DevOps specialist;Engineering manager;Full-stack developer;System administrator', '30 or more years', '21-23 years', 'Moderately satisfied', 'Moderately satisfied', 'Doing the same work', 'I’m not actively looking, but I am open to new opportunities', 'Between 2 and 4 years ago', 6.0, 3.0, 7.0, 4.0, 1.0, 5.0, 10.0, 8.0, 9.0, 2.0, 1.0, 3.0, 2.0, 9.0, 11.0, 5.0, 8.0, 4.0, 10.0, 7.0, 6.0, 5.0, 1.0, 2.0, 3.0, 4.0, 3.0, 7.0, 2.0, 4.0, 1.0, 6.0, 5.0, 'My job status or other personal status changed', 'U.S. dollars ($)', '250000', 'Yearly', 250000.0, 'USD', 'Confluence;HipChat;Jira;Office / productivity suite (Microsoft Office, Google Suite, etc.)', 'Three to six months', 'Taken an online course in programming or software development (e.g. a MOOC);Taught yourself a new language, framework, or tool without taking a formal course;Participated in a hackathon;Contributed to open source software', 'The official documentation and/or standards for the technology;A book or e-book from O’Reilly, Apress, or a similar publisher;A college/university co ... (105 characters truncated) ... orums, listservs, IRC channels, etc.);Tapping your network of friends, family, and peers versed in the technology;The technology’s online help system', None, 'Because I find it enjoyable', 'Strongly agree', 'Strongly disagree', 'Strongly disagree', 'Assembly;CoffeeScript;Erlang;Go;JavaScript;Lua;Python;Ruby;SQL;HTML;CSS;Bash/Shell', 'Erlang;Go;Python;Rust;SQL', 'Redis;PostgreSQL;Amazon DynamoDB;Apache HBase;Apache Hive;Amazon Redshift;Amazon RDS/Aurora;Elasticsearch', 'Redis;PostgreSQL;Amazon DynamoDB;Apache Hive;Amazon RDS/Aurora;Neo4j', 'Amazon Echo;AWS;iOS;Linux;Mac OS;Serverless', 'AWS;Linux;Mac OS;Serverless', 'Hadoop;Node.js;React;Spark', None, 'IntelliJ;PyCharm;Sublime Text;Vim', 'MacOS', '1', 'Agile;Evidence-based software engineering;Extreme programming (XP);Formal standard such as ISO 9001 or IEEE 12207 (aka “waterfall” methodologies);Kanban;Lean;Pair programming;Scrum', 'Git', 'Multiple times per day', 'No', None, None, 'Neither agree nor disagree', 'Somewhat agree', 'Neither agree nor disagree', 'Clicked on an online advertisement;Saw an online advertisement and then researched it (without clicking on the ad);Stopped going to a website because of their advertising', 1.0, 3.0, 5.0, 4.0, 2.0, 7.0, 6.0, 'Algorithms making important decisions', 'Artificial intelligence surpassing human intelligence (\"the singularity\")', 'The developers or the people creating the AI', \"I'm worried about the dangers more than I'm excited about the possibilities.\", 'No', 'Yes, and publicly', 'The person who came up with the idea', 'Yes', '7', 'A few times per month or weekly', 'Yes', 'Less than once per month or monthly', 'Yes', 'Yes', '7', 'No', 'Not at all interested', 'Not at all interested', 'Not at all interested', 'Not at all interested', 'Not at all interested', 'Between 8:01 - 9:00 AM', '9 - 12 hours', 'Less than 30 minutes', '1 - 2 times per week', 'Standing desk;Fatigue-relieving floor mat', \"I don't typically exercise\", 'Male', 'Straight or heterosexual', 'Some college/university study without earning a degree', 'White or of European descent', '35 - 44 years old', 'Yes', 'No', 'The survey was an appropriate length', 'Very easy')\n",
      "(16, 'No', 'Yes', 'India', 'No', 'Employed full-time', 'Bachelor’s degree (BA, BS, B.Eng., etc.)', 'Computer science, computer engineering, or software engineering', '500 to 999 employees', 'Designer', '0-2 years', None, None, None, None, None, None, None, None, None, None, None, None, None, None, None, None, None, None, None, None, None, None, None, None, None, None, None, None, None, None, None, None, None, None, None, None, None, None, None, None, None, None, None, None, None, None, None, None, None, None, None, None, None, None, None, None, None, None, None, None, None, None, None, None, None, None, None, None, None, None, None, None, None, None, None, None, None, None, None, None, None, None, None, None, None, None, None, None, None, None, None, None, None, None, None, None, None, None, None, None, None, None, None, None, None, None, None, None, None, None, None, None, None, None, None, None, None, None)\n",
      "(17, 'Yes', 'No', 'Spain', 'No', 'Employed full-time', 'Master’s degree (MA, MS, M.Eng., MBA, etc.)', 'Information systems, information technology, or system administration', '1,000 to 4,999 employees', 'Back-end developer;Database administrator;Mobile developer;System administrator', '6-8 years', '0-2 years', 'Moderately dissatisfied', 'Moderately dissatisfied', 'Doing the same work', None, None, None, None, None, None, None, None, None, None, None, None, None, None, None, None, None, None, None, None, None, None, None, None, None, None, None, None, None, None, None, None, None, None, None, None, None, None, None, None, None, None, None, None, None, None, None, None, None, None, None, None, None, None, None, None, None, None, None, None, None, None, None, None, None, None, None, None, None, None, None, None, None, None, None, None, None, None, None, None, None, None, None, None, None, None, None, None, None, None, None, None, None, None, None, None, None, None, None, None, None, None, None, None, None, None, None, None, None, None, None, None, None, None)\n",
      "(18, 'Yes', 'Yes', 'India', 'No', 'Employed full-time', 'Bachelor’s degree (BA, BS, B.Eng., etc.)', 'Another engineering discipline (ex. civil, electrical, mechanical)', '100 to 499 employees', 'Back-end developer;Front-end developer;Full-stack developer', '0-2 years', None, None, None, None, None, None, None, None, None, None, None, None, None, None, None, None, None, None, None, None, None, None, None, None, None, None, None, None, None, None, None, None, None, None, None, None, None, None, None, None, None, None, None, None, None, None, None, None, None, None, None, None, None, None, None, None, None, None, None, None, None, None, None, None, None, None, None, None, None, None, None, None, None, None, None, None, None, None, None, None, None, None, None, None, None, None, None, None, None, None, '7', 'A few times per week', 'Yes', None, None, None, None, None, None, None, None, None, None, None, None, None, None, None, None, None, None, None, None, None, None, None, None, None)\n",
      "(19, 'Yes', 'No', 'Croatia', None, 'Employed full-time', 'Some college/university study without earning a degree', 'Computer science, computer engineering, or software engineering', '20 to 99 employees', 'Back-end developer;Front-end developer', '0-2 years', None, None, None, None, None, None, None, None, None, None, None, None, None, None, None, None, None, None, None, None, None, None, None, None, None, None, None, None, None, None, None, None, None, None, None, None, None, None, None, None, None, None, None, None, None, None, None, None, None, None, None, None, None, None, None, None, None, None, None, None, None, None, None, None, None, None, None, None, None, None, None, None, None, None, None, None, None, None, None, None, None, None, None, None, None, None, None, None, None, None, '10 (Very Likely)', 'A few times per week', \"I'm not sure / I can't remember\", None, 'No, I knew that Stack Overflow had a jobs board but have never used or visited it', None, None, 'Yes', None, None, None, None, None, None, None, None, None, None, None, None, None, None, None, None, None, None, None, None)\n"
     ]
    }
   ],
   "source": [
    "with engine.connect() as conn:\n",
    "    result = conn.execute(text(\"SELECT * FROM surevey_results LIMIT 15\"))\n",
    "    for row in result:\n",
    "        print(row)"
   ]
  }
 ],
 "metadata": {
  "kernelspec": {
   "display_name": "venv",
   "language": "python",
   "name": "python3"
  },
  "language_info": {
   "codemirror_mode": {
    "name": "ipython",
    "version": 3
   },
   "file_extension": ".py",
   "mimetype": "text/x-python",
   "name": "python",
   "nbconvert_exporter": "python",
   "pygments_lexer": "ipython3",
   "version": "3.12.3"
  }
 },
 "nbformat": 4,
 "nbformat_minor": 2
}
