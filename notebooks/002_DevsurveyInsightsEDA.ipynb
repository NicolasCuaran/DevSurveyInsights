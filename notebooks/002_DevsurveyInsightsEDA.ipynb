{
 "cells": [
  {
   "cell_type": "markdown",
   "metadata": {},
   "source": [
    "# Notebook 2: Exploratory analysis of the dataset (EDA)"
   ]
  },
  {
   "cell_type": "markdown",
   "metadata": {},
   "source": [
    "Nicolas cuaran sotelo\n",
    "\n",
    "Juan Pablo Gomez\n",
    "\n",
    "Juan Jose Orozco "
   ]
  },
  {
   "cell_type": "markdown",
   "metadata": {},
   "source": [
    "This notebook focuses on performing Exploratory Data Analysis (EDA) on the Developer Survey Dataset. EDA is a crucial step in the data analysis process as it helps us understand the structure and characteristics of the dataset. By analyzing this dataset, we can uncover patterns, relationships, and potential insights that can guide further analysis and decision-making.\n",
    "In this notebook, we will explore the dataset using various statistical and visualization techniques. We will examine:\n",
    "\n",
    "The distribution of developers by country.\n",
    "\n",
    "The relationship between education level and employment status.\n",
    "\n",
    "The most common programming roles (DevType).\n",
    "\n",
    "The distribution of company sizes and their workforce composition.\n",
    "\n",
    "Insights on salary trends (if available in the dataset).\n",
    "\n",
    "Other relevant trends from the survey.\n",
    "\n",
    "Through this analysis, we aim to gain a comprehensive understanding of the dataset and extract meaningful insights about the global developer community."
   ]
  },
  {
   "cell_type": "markdown",
   "metadata": {},
   "source": []
  }
 ],
 "metadata": {
  "kernelspec": {
   "display_name": "venv",
   "language": "python",
   "name": "python3"
  },
  "language_info": {
   "codemirror_mode": {
    "name": "ipython",
    "version": 3
   },
   "file_extension": ".py",
   "mimetype": "text/x-python",
   "name": "python",
   "nbconvert_exporter": "python",
   "pygments_lexer": "ipython3",
   "version": "3.12.3"
  }
 },
 "nbformat": 4,
 "nbformat_minor": 2
}
